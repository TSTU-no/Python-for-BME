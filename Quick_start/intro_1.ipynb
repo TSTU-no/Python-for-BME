{
 "cells": [
  {
   "cell_type": "markdown",
   "metadata": {
    "collapsed": true,
    "pycharm": {
     "name": "#%% md\n"
    }
   },
   "source": [
    "# Быстрый старт\n",
    "### (урок 1)\n",
    "> Python - интерпретируемый язык программирования, получивший широкое распространение благодоря своей простоте и гибкости.\n",
    "\n",
    "> Python во многом похож на язык Matlab, позволяет делать практически то же, правда, не ограничиваясь одними лишь вычислениями.\n",
    "\n",
    "Для начала ознакомимся с работой в особой среде - JupiterNotebook (далее - ноутбук), где можно работать не только на Python"
   ]
  },
  {
   "cell_type": "code",
   "execution_count": 2,
   "outputs": [
    {
     "data": {
      "text/plain": "15"
     },
     "execution_count": 2,
     "metadata": {},
     "output_type": "execute_result"
    }
   ],
   "source": [
    "# Пример вычислений\n",
    "5 * 3"
   ],
   "metadata": {
    "collapsed": false,
    "pycharm": {
     "name": "#%%\n"
    }
   }
  },
  {
   "cell_type": "code",
   "source": [
    "# [ ] Попробуйте произвести простые вычисления.\n",
    "# [ ] Результат можно вывести, нажав стрелочку в ноутбуке, либо Ctr + Enter, либо Alt + Enter (определите разницу).\n",
    "\n",
    "# Место для вашего кода:\n"
   ],
   "metadata": {
    "collapsed": false,
    "pycharm": {
     "name": "#%%\n"
    }
   },
   "execution_count": null,
   "outputs": []
  },
  {
   "cell_type": "code",
   "source": [
    "# Чтобы добавить блок нажмите + в ноутбуке\n",
    "# Пример кода с переменными:\n",
    "\n",
    "a = 4\n",
    "b = 14 / 7 # b = 2\n",
    "\n",
    "# Возведение в степень осуществляется оператором **\n",
    "a ** b  # 4^2\n",
    "\n",
    "# [ ] Добавьте блок и используйте в нем переменные"
   ],
   "metadata": {
    "collapsed": false,
    "pycharm": {
     "name": "#%%\n"
    }
   },
   "execution_count": 3,
   "outputs": [
    {
     "data": {
      "text/plain": "16.0"
     },
     "execution_count": 3,
     "metadata": {},
     "output_type": "execute_result"
    }
   ]
  },
  {
   "cell_type": "markdown",
   "source": [
    "Здесь вам также доступны операторы if/else, while, for\n",
    "\n",
    "В некоторых случаях их применение может отличаться, от того, к чему вы привыкли, но об этом будет сказано позже."
   ],
   "metadata": {
    "collapsed": false,
    "pycharm": {
     "name": "#%% md\n"
    }
   }
  },
  {
   "cell_type": "code",
   "execution_count": 4,
   "outputs": [
    {
     "name": "stdout",
     "output_type": "stream",
     "text": [
      "2.6\n",
      "Число 1 = 2\n",
      "Число 2 = 12.029102886279073\n",
      "Число 3 = 11.792388155425122\n"
     ]
    }
   ],
   "source": [
    "# Пример\n",
    "\n",
    "a = 2\n",
    "b = 1.5\n",
    "c = 1.1\n",
    "\n",
    "if a > b:\n",
    "    c += b  # c = c + b\n",
    "else:\n",
    "    c *= a  # c = c * a\n",
    "\n",
    "# Для принудительного вывода необходимо использовать функцию print()\n",
    "\n",
    "print(c)\n",
    "\n",
    "while c > b:\n",
    "    b = b + b / c\n",
    "    c = c + a ** (-0.5)\n",
    "    # принудительный выход из цикла, если c > 10\n",
    "    if c > 10:\n",
    "        break   # выход из цикла\n",
    "\n",
    "var_list = [a, b, c]\n",
    "count = 1\n",
    "\n",
    "for value in var_list:\n",
    "    print(\"Число\", count, '=', value)\n",
    "    count += 1"
   ],
   "metadata": {
    "collapsed": false,
    "pycharm": {
     "name": "#%%\n"
    }
   }
  },
  {
   "cell_type": "code",
   "execution_count": null,
   "outputs": [],
   "source": [
    "# [ ] Поэксперементируйте с предоставленным материалом\n",
    "# [ ] Оставьте вопросы в нижней форме и выгрузите проект на GitHub\n",
    "\n"
   ],
   "metadata": {
    "collapsed": false,
    "pycharm": {
     "name": "#%%\n"
    }
   }
  },
  {
   "cell_type": "markdown",
   "source": [
    "## Вопросы?\n",
    "\n",
    "\n"
   ],
   "metadata": {
    "collapsed": false
   }
  }
 ],
 "metadata": {
  "kernelspec": {
   "display_name": "Python 3",
   "language": "python",
   "name": "python3"
  },
  "language_info": {
   "codemirror_mode": {
    "name": "ipython",
    "version": 2
   },
   "file_extension": ".py",
   "mimetype": "text/x-python",
   "name": "python",
   "nbconvert_exporter": "python",
   "pygments_lexer": "ipython2",
   "version": "2.7.6"
  }
 },
 "nbformat": 4,
 "nbformat_minor": 0
}