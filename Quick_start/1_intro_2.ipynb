{
 "cells": [
  {
   "cell_type": "markdown",
   "source": [
    "Как вы видите, мы не касаемся каких-то глубоких идей данного языка. Наша цель — научиться использовать Python для реализации наших задач. Детальную информацию всегда можно найти в интернете.\n",
    "\n",
    "Работа с функциями в питоне тоже не изобилует сложностями:\n",
    "```Pyhon\n",
    "def your_function(input_var1, input_var2):\n",
    "    # функция принимает переменные, указанные в скобках\n",
    "    # Питон присваивает функции весь код,\n",
    "    # с отступом из четырех пробелов (один Tab)\n",
    "    # что-то делаете, например:\n",
    "    output_var = input_var1 + input_var2\n",
    "    # выводите из функции(не обязательно):\n",
    "    return output_var\n",
    "```\n",
    "\n",
    "Всё что объявляется внутри функции остается локальными объектами, если другого специально не указано, то есть по завершению функции эти переменные и другие объекты уничтожаются.\n",
    "\n",
    "Попробуйте запустить тот же, по смыслу, код и попробуйте вывести результат"
   ],
   "metadata": {
    "collapsed": false,
    "pycharm": {
     "name": "#%% md\n"
    }
   }
  },
  {
   "cell_type": "code",
   "execution_count": 2,
   "outputs": [
    {
     "name": "stdout",
     "output_type": "stream",
     "text": [
      "25\n"
     ]
    }
   ],
   "source": [
    "def my_sum(a, b):\n",
    "    c = a + b\n",
    "    return c\n",
    "\n",
    "x = 10\n",
    "y = 15\n",
    "# [ ] Измените следующую строчку, чтобы вывести результат сложения двух чисел x и y\n",
    "print(my_sum('''место для кода'''))"
   ],
   "metadata": {
    "collapsed": false,
    "pycharm": {
     "name": "#%%\n"
    }
   }
  },
  {
   "cell_type": "code",
   "execution_count": null,
   "outputs": [],
   "source": [
    "# [ ] Попробуйте написать собственную функцию.\n",
    "# [ ] Убедитесь, что ее можно использовать множество раз\n",
    "\n",
    "'''место для кода'''"
   ],
   "metadata": {
    "collapsed": false,
    "pycharm": {
     "name": "#%%\n"
    }
   }
  },
  {
   "cell_type": "markdown",
   "source": [
    "С созданными пользовательскими функциями можно работать так же, как и со встроенными.\n",
    "У вас есть возможность наделить свою функцию всеми особенностями, которые есть у других функций."
   ],
   "metadata": {
    "collapsed": false,
    "pycharm": {
     "name": "#%% md\n"
    }
   }
  },
  {
   "cell_type": "code",
   "execution_count": 5,
   "outputs": [
    {
     "name": "stdout",
     "output_type": "stream",
     "text": [
      "ваша функция работает: 7"
     ]
    }
   ],
   "source": [
    "# [ ] Изучите поведение этой функции\n",
    "# [ ] Попробуйте улучшить её\n",
    "\n",
    "def my_print(input_string='здесь пусто', my_end=''):\n",
    "    \"\"\" Текст, помещенный в тройные кавычки(то есть\n",
    "     три одинарные кавычки или три двойные кавычки),\n",
    "     следующий сразу после объявления функции,\n",
    "     является её описанием, которое будет всплывать\n",
    "     при наведении курсора на функцию\"\"\"\n",
    "    print(input_string, end=my_end)\n",
    "\n",
    "my_print('ваша функция работает: ' + str(my_sum(1, 6)))"
   ],
   "metadata": {
    "collapsed": false,
    "pycharm": {
     "name": "#%%\n"
    }
   }
  },
  {
   "cell_type": "code",
   "execution_count": 6,
   "outputs": [
    {
     "name": "stdout",
     "output_type": "stream",
     "text": [
      "Help on built-in function print in module builtins:\n",
      "\n",
      "print(...)\n",
      "    print(value, ..., sep=' ', end='\\n', file=sys.stdout, flush=False)\n",
      "    \n",
      "    Prints the values to a stream, or to sys.stdout by default.\n",
      "    Optional keyword arguments:\n",
      "    file:  a file-like object (stream); defaults to the current sys.stdout.\n",
      "    sep:   string inserted between values, default a space.\n",
      "    end:   string appended after the last value, default a newline.\n",
      "    flush: whether to forcibly flush the stream.\n",
      "\n"
     ]
    }
   ],
   "source": [
    "# Чтобы получить встроенную справку по функции (подобную тому, что мы написали) существует функция help:\n",
    "\n",
    "help(print)\n",
    "\n"
   ],
   "metadata": {
    "collapsed": false,
    "pycharm": {
     "name": "#%%\n"
    }
   }
  },
  {
   "cell_type": "code",
   "execution_count": null,
   "outputs": [],
   "source": [
    "# [ ] Поэксперементируйте с предоставленным материалом\n",
    "# [ ] Оставьте вопросы в нижней форме и выгрузите проект на GitHub\n",
    "\n"
   ],
   "metadata": {
    "collapsed": false,
    "pycharm": {
     "name": "#%%\n"
    }
   }
  },
  {
   "cell_type": "markdown",
   "source": [
    "## Вопросы?\n",
    "tstu-no@inbox.ru\n"
   ],
   "metadata": {
    "collapsed": false
   }
  }
 ],
 "metadata": {
  "kernelspec": {
   "display_name": "Python 3",
   "language": "python",
   "name": "python3"
  },
  "language_info": {
   "codemirror_mode": {
    "name": "ipython",
    "version": 2
   },
   "file_extension": ".py",
   "mimetype": "text/x-python",
   "name": "python",
   "nbconvert_exporter": "python",
   "pygments_lexer": "ipython2",
   "version": "2.7.6"
  }
 },
 "nbformat": 4,
 "nbformat_minor": 0
}