{
 "cells": [
  {
   "cell_type": "markdown",
   "metadata": {
    "collapsed": true,
    "pycharm": {
     "name": "#%% md\n"
    }
   },
   "source": [
    "# Импортирование\n",
    "\n",
    "import позволяет импортировать внешний код (библиотеки), который может содержать как объявления функций (def), так и непосредственно исполняемые строки.\n",
    "\n",
    "Как правило, импорт производят в начале кода. Во первых - так код будет выполнен сразу, во вторых - сразу видно, что импортировано."
   ]
  },
  {
   "cell_type": "code",
   "execution_count": 1,
   "outputs": [
    {
     "data": {
      "text/plain": "0.15425144988758405"
     },
     "execution_count": 1,
     "metadata": {},
     "output_type": "execute_result"
    }
   ],
   "source": [
    "# math - это стандартная математическая библиотека\n",
    "\n",
    "import math\n",
    "\n",
    "# Чтобы ею воспользоваться необходимо её вызвать.\n",
    "# Вызываем функцию косинуса из библиотеки math:\n",
    "math.cos(30)"
   ],
   "metadata": {
    "collapsed": false,
    "pycharm": {
     "name": "#%%\n"
    }
   }
  },
  {
   "cell_type": "code",
   "execution_count": 2,
   "outputs": [
    {
     "data": {
      "text/plain": "0.15425144988758405"
     },
     "execution_count": 2,
     "metadata": {},
     "output_type": "execute_result"
    }
   ],
   "source": [
    "# Можно импортировать, используя псевдоним (alias)\n",
    "# Здесь мы импортируем внешнюю вычислительную библиотеку NumPy под псевдонимом \"np\" (*)\n",
    "\n",
    "import numpy as np\n",
    "\n",
    "# Воспользуемся библиотекой. У неё есть свои математические функции:\n",
    "\n",
    "np.cos(30)\n",
    "\n",
    "# об особенностях и преимуществах NumPy перед встроенной библиотекой поговорим в следующий раз."
   ],
   "metadata": {
    "collapsed": false,
    "pycharm": {
     "name": "#%%\n"
    }
   }
  },
  {
   "cell_type": "markdown",
   "source": [
    "Здесь же мы попробуем импортировать собственный код.\n",
    "Создайте текстовый файл с кодом, за пример которого можете взять следующий (скопируйте, если вдохновение не снизойдет):\n",
    "\n",
    "```Python\n",
    "print(\"Эта строчка выполняется при импортировании!\")\n",
    "\n",
    "\n",
    "def my_func():\n",
    "    print('Часть кода, начиная с \"def\", выполняется при вызове функции \"my_func\"')\n",
    "\n",
    "```\n",
    "\n",
    "Далее сохраните его под любым именем, содержащим только латиницу, с расширением \".py\".\n",
    "Поместите этот файл в рабочую директорию. Если вы работаете в облаке Google Colab, то сделать это можно через пиктограмму файла.\n",
    "\n",
    "![Alt-текст](../content/my_file_img.png \"Файл находится в рабочей директории\")\n",
    "\n",
    "Теперь вы можете импортировать этот код."
   ],
   "metadata": {
    "collapsed": false,
    "pycharm": {
     "name": "#%% md\n"
    }
   }
  },
  {
   "cell_type": "code",
   "execution_count": 7,
   "outputs": [],
   "source": [
    "import my_file as my"
   ],
   "metadata": {
    "collapsed": false,
    "pycharm": {
     "name": "#%%\n"
    }
   }
  },
  {
   "cell_type": "code",
   "execution_count": 6,
   "outputs": [
    {
     "name": "stdout",
     "output_type": "stream",
     "text": [
      "Часть кода, начиная с \"def\", выполняется при вызове функции \"my_func\"\n",
      "Часть кода, начиная с \"def\", выполняется при вызове функции \"my_func\"\n"
     ]
    }
   ],
   "source": [
    "# выполним два раза, чтобы увидеть, как это работает\n",
    "my.my_func()\n",
    "my.my_func()"
   ],
   "metadata": {
    "collapsed": false,
    "pycharm": {
     "name": "#%%\n"
    }
   }
  },
  {
   "cell_type": "code",
   "execution_count": null,
   "outputs": [],
   "source": [
    "# [ ] Поэксперементируйте с предоставленным материалом\n",
    "# [ ] Оставьте вопросы в нижней форме и выгрузите проект на GitHub\n",
    "\n"
   ],
   "metadata": {
    "collapsed": false,
    "pycharm": {
     "name": "#%%\n"
    }
   }
  },
  {
   "cell_type": "markdown",
   "source": [
    "(*) Если импорт NumPy вызвал ошибку и вы не смогли решить проблему самостоятельно посредством Anaconda-navigator, conda install, либо pip install, то обращайтесь ко мне, добавлю описание.\n",
    "## Вопросы?\n",
    "tstu-no@inbox.ru\n"
   ],
   "metadata": {
    "collapsed": false
   }
  }
 ],
 "metadata": {
  "kernelspec": {
   "display_name": "Python 3",
   "language": "python",
   "name": "python3"
  },
  "language_info": {
   "codemirror_mode": {
    "name": "ipython",
    "version": 2
   },
   "file_extension": ".py",
   "mimetype": "text/x-python",
   "name": "python",
   "nbconvert_exporter": "python",
   "pygments_lexer": "ipython2",
   "version": "2.7.6"
  }
 },
 "nbformat": 4,
 "nbformat_minor": 0
}